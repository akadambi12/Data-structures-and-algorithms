{
 "cells": [
  {
   "cell_type": "markdown",
   "id": "75c47577",
   "metadata": {},
   "source": [
    "# Hash function"
   ]
  },
  {
   "cell_type": "code",
   "execution_count": 1,
   "id": "6f0156cf",
   "metadata": {},
   "outputs": [],
   "source": [
    "#key is s tring here\n",
    "def get_hash(key):\n",
    "    sum=0\n",
    "    for char in key:\n",
    "        sum=sum+ord(char)  #ord(char)-gives ascii value of every character in string\n",
    "    return sum%10          #returns last digit of sum- if sum=609, returns 9\n",
    "        \n"
   ]
  },
  {
   "cell_type": "code",
   "execution_count": 2,
   "id": "940dbccb",
   "metadata": {},
   "outputs": [
    {
     "data": {
      "text/plain": [
       "9"
      ]
     },
     "execution_count": 2,
     "metadata": {},
     "output_type": "execute_result"
    }
   ],
   "source": [
    "get_hash('march 6')"
   ]
  },
  {
   "cell_type": "code",
   "execution_count": 6,
   "id": "8349a4a3",
   "metadata": {},
   "outputs": [],
   "source": [
    "class HashTable:\n",
    "    def __init__(self):\n",
    "        self.MAX=100\n",
    "        self.arr=[None for i in range(self.MAX)] #array of 100 elements. all values are None type\n",
    "    def get_hash(self,key):\n",
    "        sum=0\n",
    "        for char in key:\n",
    "            sum=sum+ord(char)  #ord(char)-gives ascii value of every character in string\n",
    "        return sum%self.MAX    #returns last digit of sum- if sum=609, returns 9\n",
    "    \n",
    "    #adding key values,adding strings\n",
    "    def add(self,key,value):\n",
    "        h=self.get_hash(key)   #h stores hash value of key\n",
    "        self.arr[h]=val        #array with index h stores value. example- 130 in index 9\n",
    "    \n",
    "    def get(self,key):\n",
    "        h=self.get_hash(key)\n",
    "        return self.arr[h]\n",
    "        "
   ]
  },
  {
   "cell_type": "code",
   "execution_count": 7,
   "id": "ec8a3aba",
   "metadata": {},
   "outputs": [
    {
     "data": {
      "text/plain": [
       "9"
      ]
     },
     "execution_count": 7,
     "metadata": {},
     "output_type": "execute_result"
    }
   ],
   "source": [
    "#create object of class\n",
    "t=HashTable()\n",
    "t.get_hash('march 6')\n"
   ]
  },
  {
   "cell_type": "code",
   "execution_count": null,
   "id": "d34b9a0b",
   "metadata": {},
   "outputs": [],
   "source": []
  },
  {
   "cell_type": "code",
   "execution_count": null,
   "id": "6b07a253",
   "metadata": {},
   "outputs": [],
   "source": []
  },
  {
   "cell_type": "code",
   "execution_count": null,
   "id": "f85a3dab",
   "metadata": {},
   "outputs": [],
   "source": []
  }
 ],
 "metadata": {
  "kernelspec": {
   "display_name": "Python 3 (ipykernel)",
   "language": "python",
   "name": "python3"
  },
  "language_info": {
   "codemirror_mode": {
    "name": "ipython",
    "version": 3
   },
   "file_extension": ".py",
   "mimetype": "text/x-python",
   "name": "python",
   "nbconvert_exporter": "python",
   "pygments_lexer": "ipython3",
   "version": "3.9.12"
  }
 },
 "nbformat": 4,
 "nbformat_minor": 5
}
